{
 "cells": [
  {
   "attachments": {},
   "cell_type": "markdown",
   "metadata": {},
   "source": [
    "- Crie uma lista\n"
   ]
  },
  {
   "cell_type": "code",
   "execution_count": 1,
   "metadata": {},
   "outputs": [],
   "source": [
    "lista = [3, 9, 35, 34]"
   ]
  },
  {
   "attachments": {},
   "cell_type": "markdown",
   "metadata": {},
   "source": [
    "- Crie um for loop para imprimir na tela todos os elementos da lista\n"
   ]
  },
  {
   "cell_type": "code",
   "execution_count": 2,
   "metadata": {},
   "outputs": [
    {
     "name": "stdout",
     "output_type": "stream",
     "text": [
      "3\n",
      "9\n",
      "35\n",
      "34\n"
     ]
    }
   ],
   "source": [
    "for numero in lista:\n",
    "    print(numero)"
   ]
  },
  {
   "attachments": {},
   "cell_type": "markdown",
   "metadata": {},
   "source": [
    "- Crie um for loop usando o recurso \"continue\"\n"
   ]
  },
  {
   "cell_type": "code",
   "execution_count": 3,
   "metadata": {},
   "outputs": [
    {
     "name": "stdout",
     "output_type": "stream",
     "text": [
      "Estamos no “else”.\n",
      "35\n",
      "Esse número é par\n",
      "34\n"
     ]
    }
   ],
   "source": [
    "for numero in lista:\n",
    "\tif numero % 3 == 0:\n",
    "\t\tcontinue\n",
    "\telif numero % 2 == 0:\n",
    "\t\tprint('Esse número é par')\n",
    "\telse: \n",
    "\t\tprint('Estamos no “else”.')\n",
    "\tprint(numero)"
   ]
  },
  {
   "attachments": {},
   "cell_type": "markdown",
   "metadata": {},
   "source": [
    "- Crie um for loop usando o recurso \"break\"\n"
   ]
  },
  {
   "cell_type": "code",
   "execution_count": 4,
   "metadata": {},
   "outputs": [
    {
     "name": "stdout",
     "output_type": "stream",
     "text": [
      "Esse número é divisível por 3. 3\n"
     ]
    }
   ],
   "source": [
    "for numero in lista:\n",
    "   if numero % 3 == 0:\n",
    "       print('Esse número é divisível por 3.', numero)\t\n",
    "       break\n",
    "   if numero % 2 == 0:\n",
    "       print('Esse número é par.')\n",
    "   else:\n",
    "       print('Estamos no \"else.\"')\n",
    "   print(numero)"
   ]
  },
  {
   "attachments": {},
   "cell_type": "markdown",
   "metadata": {},
   "source": [
    "- Crie um for loop usando o \"else\"\n"
   ]
  },
  {
   "cell_type": "code",
   "execution_count": 5,
   "metadata": {},
   "outputs": [
    {
     "name": "stdout",
     "output_type": "stream",
     "text": [
      "Esse número é divisível por 3\n",
      "3\n",
      "Esse número é divisível por 3\n",
      "9\n",
      "35\n",
      "Esse número é par\n",
      "34\n",
      "Teste\n"
     ]
    }
   ],
   "source": [
    "for numero in lista:\n",
    "\tif numero % 3 == 0:\n",
    "\t\tprint('Esse número é divisível por 3')\n",
    "\telif numero % 2 == 0:\n",
    "\t\tprint('Esse número é par')\n",
    "\tprint(numero)\n",
    "else:\n",
    "    print('Teste')"
   ]
  }
 ],
 "metadata": {
  "kernelspec": {
   "display_name": "Python 3",
   "language": "python",
   "name": "python3"
  },
  "language_info": {
   "codemirror_mode": {
    "name": "ipython",
    "version": 3
   },
   "file_extension": ".py",
   "mimetype": "text/x-python",
   "name": "python",
   "nbconvert_exporter": "python",
   "pygments_lexer": "ipython3",
   "version": "3.8.10"
  },
  "orig_nbformat": 4,
  "vscode": {
   "interpreter": {
    "hash": "916dbcbb3f70747c44a77c7bcd40155683ae19c65e1c03b4aa3499c5328201f1"
   }
  }
 },
 "nbformat": 4,
 "nbformat_minor": 2
}
