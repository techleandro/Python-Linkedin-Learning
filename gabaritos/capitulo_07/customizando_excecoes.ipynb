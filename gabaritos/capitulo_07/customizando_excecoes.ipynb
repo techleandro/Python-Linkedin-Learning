{
 "cells": [
  {
   "attachments": {},
   "cell_type": "markdown",
   "metadata": {},
   "source": [
    "- Imagine que você está criando um servidor web e customize exceções para o código\n"
   ]
  },
  {
   "cell_type": "code",
   "execution_count": 1,
   "metadata": {},
   "outputs": [],
   "source": [
    "class HttpException(Exception):\n",
    "    codigo_status = None\n",
    "    mensagem = None\n",
    "\n",
    "    def __init__(self):\n",
    "        super().__init__(f'Código do status: {self.codigo_status}. Mensagem: {self.mensagem}')\n",
    "\n",
    "class Unauthorized(HttpException):\n",
    "    codigo_status = 401\n",
    "    mensagem = 'Acesso não autorizado'\n",
    "\n",
    "class BadGateway(HttpException):\n",
    "    codigo_status = 502\n",
    "    mensagem = 'Esse servidor é um gateway ou servidor proxy, que não está recebendo resposta válida dos servidores de back-end.'"
   ]
  },
  {
   "attachments": {},
   "cell_type": "markdown",
   "metadata": {},
   "source": [
    "- Simule a aplicação de uma exceção customizada no código"
   ]
  },
  {
   "cell_type": "code",
   "execution_count": 2,
   "metadata": {},
   "outputs": [
    {
     "ename": "Unauthorized",
     "evalue": "Código do status: 401. Mensagem: Acesso não autorizado",
     "output_type": "error",
     "traceback": [
      "\u001b[0;31m---------------------------------------------------------------------------\u001b[0m",
      "\u001b[0;31mUnauthorized\u001b[0m                              Traceback (most recent call last)",
      "Cell \u001b[0;32mIn[2], line 4\u001b[0m\n\u001b[1;32m      1\u001b[0m \u001b[39mdef\u001b[39;00m \u001b[39mraiseUnauthorizedError\u001b[39m():\n\u001b[1;32m      2\u001b[0m     \u001b[39mraise\u001b[39;00m Unauthorized()\n\u001b[0;32m----> 4\u001b[0m raiseUnauthorizedError()\n",
      "Cell \u001b[0;32mIn[2], line 2\u001b[0m, in \u001b[0;36mraiseUnauthorizedError\u001b[0;34m()\u001b[0m\n\u001b[1;32m      1\u001b[0m \u001b[39mdef\u001b[39;00m \u001b[39mraiseUnauthorizedError\u001b[39m():\n\u001b[0;32m----> 2\u001b[0m     \u001b[39mraise\u001b[39;00m Unauthorized()\n",
      "\u001b[0;31mUnauthorized\u001b[0m: Código do status: 401. Mensagem: Acesso não autorizado"
     ]
    }
   ],
   "source": [
    "def raiseUnauthorizedError():\n",
    "    raise Unauthorized()\n",
    "\n",
    "raiseUnauthorizedError()"
   ]
  }
 ],
 "metadata": {
  "kernelspec": {
   "display_name": "Python 3",
   "language": "python",
   "name": "python3"
  },
  "language_info": {
   "codemirror_mode": {
    "name": "ipython",
    "version": 3
   },
   "file_extension": ".py",
   "mimetype": "text/x-python",
   "name": "python",
   "nbconvert_exporter": "python",
   "pygments_lexer": "ipython3",
   "version": "3.8.10"
  },
  "orig_nbformat": 4,
  "vscode": {
   "interpreter": {
    "hash": "916dbcbb3f70747c44a77c7bcd40155683ae19c65e1c03b4aa3499c5328201f1"
   }
  }
 },
 "nbformat": 4,
 "nbformat_minor": 2
}
