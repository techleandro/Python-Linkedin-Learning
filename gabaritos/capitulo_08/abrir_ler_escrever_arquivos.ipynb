{
 "cells": [
  {
   "attachments": {},
   "cell_type": "markdown",
   "metadata": {},
   "source": [
    "- Abra o arquivo \"dados/a_luta_carmen_dolores_trecho.txt\" em modo leitura\n"
   ]
  },
  {
   "cell_type": "code",
   "execution_count": 3,
   "metadata": {},
   "outputs": [],
   "source": [
    "conto = open('../../dados/a_luta_carmen_dolores_trecho.txt', mode='r')\n",
    "conto.close()"
   ]
  },
  {
   "attachments": {},
   "cell_type": "markdown",
   "metadata": {},
   "source": [
    "- Abra o arquivo \"dados/a_luta_carmen_dolores_trecho.txt\" em modo leitura usando a palavra reservada \"with\"\n"
   ]
  },
  {
   "cell_type": "code",
   "execution_count": 4,
   "metadata": {},
   "outputs": [
    {
     "name": "stdout",
     "output_type": "stream",
     "text": [
      "['Título: A Luta\\n', 'Autora: Carmen Dolores\\n', 'Ano: 1909\\n', '\\n', 'Dentro, a sala de jantar resplandecia à larga claridade de três janelas e uma porta\\n', 'abrindo para o jardim, que circulava a casa e onde zumbiam abelhas sobre os cálices de\\n', 'lírios, banhados de sol; e a cidade aparecia num plano inferior de silêncio e de distância,\\n', 'através de um vapor trêmulo e azulado que varava aqui ou ali o reflexo de incêndio de alguma clarabóia ferida \\n', 'por um raio de luz mais direto.\\n', '\\n', 'A mesa, recoberta pela toalha de linho dos grandes dias, tinha o aspecto convidativo,\\n', 'com os seus pratos de sandwiches, pastéis e empadinhas flanqueados pelas garrafas de cristal, \\n', 'em que brilhava um vinho aparentemente fino;\\n', \"pirâmides de fios d'ovos e compoteiras de doces feitos em casa alternavam com as fruteiras em que enrubesciam maçãs junto aos\\n\", 'cachos de uvas, decorativamente espalhados - e toda uma profusão de flores em altos ramos circunscrevia a vista.\\n', '\\n', '[trecho da obra original]\\n', '\\n', 'Última linha.']\n"
     ]
    }
   ],
   "source": [
    "with open('../../dados/a_luta_carmen_dolores_trecho.txt', mode='r') as arquivo:\n",
    "    pass\n",
    "    linhas = arquivo.readlines()\n",
    "    print(linhas)"
   ]
  },
  {
   "attachments": {},
   "cell_type": "markdown",
   "metadata": {},
   "source": [
    "- Crie uma lista com as linhas do arquivo e imprima na tela\n"
   ]
  },
  {
   "cell_type": "code",
   "execution_count": 5,
   "metadata": {},
   "outputs": [
    {
     "name": "stdout",
     "output_type": "stream",
     "text": [
      "['Título: A Luta\\n', 'Autora: Carmen Dolores\\n', 'Ano: 1909\\n', '\\n', 'Dentro, a sala de jantar resplandecia à larga claridade de três janelas e uma porta\\n', 'abrindo para o jardim, que circulava a casa e onde zumbiam abelhas sobre os cálices de\\n', 'lírios, banhados de sol; e a cidade aparecia num plano inferior de silêncio e de distância,\\n', 'através de um vapor trêmulo e azulado que varava aqui ou ali o reflexo de incêndio de alguma clarabóia ferida \\n', 'por um raio de luz mais direto.\\n', '\\n', 'A mesa, recoberta pela toalha de linho dos grandes dias, tinha o aspecto convidativo,\\n', 'com os seus pratos de sandwiches, pastéis e empadinhas flanqueados pelas garrafas de cristal, \\n', 'em que brilhava um vinho aparentemente fino;\\n', \"pirâmides de fios d'ovos e compoteiras de doces feitos em casa alternavam com as fruteiras em que enrubesciam maçãs junto aos\\n\", 'cachos de uvas, decorativamente espalhados - e toda uma profusão de flores em altos ramos circunscrevia a vista.\\n', '\\n', '[trecho da obra original]\\n', '\\n', 'Última linha.']\n"
     ]
    }
   ],
   "source": [
    "with open('../../dados/a_luta_carmen_dolores_trecho.txt', mode='r') as arquivo:\n",
    "    linhas = arquivo.readlines()\n",
    "    print(linhas)"
   ]
  },
  {
   "attachments": {},
   "cell_type": "markdown",
   "metadata": {},
   "source": [
    "- Crie um for loop para ler cada item da lista e retirar as quebras de linha\n"
   ]
  },
  {
   "cell_type": "code",
   "execution_count": 6,
   "metadata": {},
   "outputs": [
    {
     "name": "stdout",
     "output_type": "stream",
     "text": [
      "Título: A Luta\n",
      "Autora: Carmen Dolores\n",
      "Ano: 1909\n",
      "\n",
      "Dentro, a sala de jantar resplandecia à larga claridade de três janelas e uma porta\n",
      "abrindo para o jardim, que circulava a casa e onde zumbiam abelhas sobre os cálices de\n",
      "lírios, banhados de sol; e a cidade aparecia num plano inferior de silêncio e de distância,\n",
      "através de um vapor trêmulo e azulado que varava aqui ou ali o reflexo de incêndio de alguma clarabóia ferida\n",
      "por um raio de luz mais direto.\n",
      "\n",
      "A mesa, recoberta pela toalha de linho dos grandes dias, tinha o aspecto convidativo,\n",
      "com os seus pratos de sandwiches, pastéis e empadinhas flanqueados pelas garrafas de cristal,\n",
      "em que brilhava um vinho aparentemente fino;\n",
      "pirâmides de fios d'ovos e compoteiras de doces feitos em casa alternavam com as fruteiras em que enrubesciam maçãs junto aos\n",
      "cachos de uvas, decorativamente espalhados - e toda uma profusão de flores em altos ramos circunscrevia a vista.\n",
      "\n",
      "[trecho da obra original]\n",
      "\n",
      "Última linha.\n"
     ]
    }
   ],
   "source": [
    "with open('../../dados/a_luta_carmen_dolores_trecho.txt', mode='r') as arquivo:\n",
    "    linhas = arquivo.readlines()\n",
    "    for linha in linhas:\n",
    "        print(linha.strip())"
   ]
  },
  {
   "attachments": {},
   "cell_type": "markdown",
   "metadata": {},
   "source": [
    "- Abra o arquivo \"dados/a_luta_carmen_dolores_trecho.txt\" em modo append e adicione uma nova linha em seu conteúdo\n"
   ]
  },
  {
   "cell_type": "code",
   "execution_count": 7,
   "metadata": {},
   "outputs": [],
   "source": [
    "with open('../../dados/a_luta_carmen_dolores_trecho.txt', mode='a') as arquivo:\n",
    "    arquivo.write('\\n\\n[trecho da obra original]')"
   ]
  },
  {
   "attachments": {},
   "cell_type": "markdown",
   "metadata": {},
   "source": [
    "- Copie o conteúdo do arquivo \"dados/a_luta_carmen_dolores_trecho.txt\" para um novo arquivo\n"
   ]
  },
  {
   "cell_type": "code",
   "execution_count": 8,
   "metadata": {},
   "outputs": [],
   "source": [
    "conto = open('../../dados/a_luta_carmen_dolores_trecho.txt', mode='r')\n",
    "\n",
    "with open('../../dados/copia_a_luta_carmen_dolores_trecho.txt', mode='w') as arquivo:\n",
    "    linhas_conto = conto.readlines()\n",
    "    arquivo.writelines(linhas_conto)\n",
    "\n",
    "conto.close()"
   ]
  }
 ],
 "metadata": {
  "kernelspec": {
   "display_name": "Python 3",
   "language": "python",
   "name": "python3"
  },
  "language_info": {
   "codemirror_mode": {
    "name": "ipython",
    "version": 3
   },
   "file_extension": ".py",
   "mimetype": "text/x-python",
   "name": "python",
   "nbconvert_exporter": "python",
   "pygments_lexer": "ipython3",
   "version": "3.8.10"
  },
  "orig_nbformat": 4,
  "vscode": {
   "interpreter": {
    "hash": "916dbcbb3f70747c44a77c7bcd40155683ae19c65e1c03b4aa3499c5328201f1"
   }
  }
 },
 "nbformat": 4,
 "nbformat_minor": 2
}
