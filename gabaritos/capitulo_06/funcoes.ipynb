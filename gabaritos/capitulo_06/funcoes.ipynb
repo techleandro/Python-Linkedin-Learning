{
 "cells": [
  {
   "attachments": {},
   "cell_type": "markdown",
   "metadata": {},
   "source": [
    "- Crie uma função que receba como argumento 2 números e 1 operação matemática\n"
   ]
  },
  {
   "cell_type": "code",
   "execution_count": 1,
   "metadata": {},
   "outputs": [],
   "source": [
    "def operacaoAritmetica(numero1, numero2, operacao):\n",
    "    pass"
   ]
  },
  {
   "attachments": {},
   "cell_type": "markdown",
   "metadata": {},
   "source": [
    "- Implemente as funções de soma e multiplicação, nessa função\n"
   ]
  },
  {
   "cell_type": "code",
   "execution_count": 2,
   "metadata": {},
   "outputs": [],
   "source": [
    "def operacaoAritmetica(numero1, numero2, operacao):\n",
    "\tif operacao == 'soma':\n",
    "\t\treturn numero1 + numero2\n",
    "\telif operacao == 'subtracao':\n",
    "\t\tpass\n",
    "\telif operacao == 'multiplicacao':\n",
    "\t\treturn numero1 * numero2\n",
    "\telif operacao == 'divisao':\n",
    "\t\tpass"
   ]
  },
  {
   "cell_type": "code",
   "execution_count": 3,
   "metadata": {},
   "outputs": [
    {
     "name": "stdout",
     "output_type": "stream",
     "text": [
      "9\n"
     ]
    }
   ],
   "source": [
    "operacao = operacaoAritmetica(6, 3, 'soma')\n",
    "print(operacao)"
   ]
  },
  {
   "attachments": {},
   "cell_type": "markdown",
   "metadata": {},
   "source": [
    "- Modifique a função para que receba uma quantidade de argumentos não previsível e os imprima na tela\n"
   ]
  },
  {
   "cell_type": "code",
   "execution_count": 4,
   "metadata": {},
   "outputs": [],
   "source": [
    "def operacaoAritmetica(*numeros, **operacoes):\n",
    "    return numeros, operacoes"
   ]
  },
  {
   "cell_type": "code",
   "execution_count": 5,
   "metadata": {},
   "outputs": [
    {
     "name": "stdout",
     "output_type": "stream",
     "text": [
      "((6, 3, 7, 5, 4), {'operacoes': 'soma'})\n"
     ]
    }
   ],
   "source": [
    "operacao = operacaoAritmetica(6, 3, 7, 5, 4, operacoes='soma')\n",
    "print(operacao)"
   ]
  },
  {
   "attachments": {},
   "cell_type": "markdown",
   "metadata": {},
   "source": [
    "- Use a biblioteca math para otimizar a função\n"
   ]
  },
  {
   "cell_type": "code",
   "execution_count": 6,
   "metadata": {},
   "outputs": [],
   "source": [
    "import math\n",
    "\n",
    "def operacaoAritmetica(*args, **kwargs):\n",
    "    for argumento, valor in kwargs.items():     \n",
    "        if argumento == 'operacao' and valor == 'soma':\n",
    "            return sum(args)\n",
    "        elif argumento == 'operacao' and valor == 'subtracao':\n",
    "            pass\n",
    "        elif argumento == 'operacao' and valor == 'multiplicacao':\n",
    "            return math.prod(args)\n",
    "        elif argumento == 'operacao' and valor == 'divisao':\n",
    "            pass"
   ]
  },
  {
   "cell_type": "code",
   "execution_count": 7,
   "metadata": {},
   "outputs": [
    {
     "name": "stdout",
     "output_type": "stream",
     "text": [
      "12960\n"
     ]
    }
   ],
   "source": [
    "operacao = operacaoAritmetica(6, 3, 8, 9, 10, operacao='multiplicacao')\n",
    "print(operacao)"
   ]
  },
  {
   "attachments": {},
   "cell_type": "markdown",
   "metadata": {},
   "source": [
    "- Escreva uma função do tipo lambda"
   ]
  },
  {
   "cell_type": "code",
   "execution_count": 8,
   "metadata": {},
   "outputs": [
    {
     "name": "stdout",
     "output_type": "stream",
     "text": [
      "5\n"
     ]
    }
   ],
   "source": [
    "soma = lambda x, y: print(x + y)\n",
    "soma(2,3)"
   ]
  }
 ],
 "metadata": {
  "kernelspec": {
   "display_name": "Python 3",
   "language": "python",
   "name": "python3"
  },
  "language_info": {
   "codemirror_mode": {
    "name": "ipython",
    "version": 3
   },
   "file_extension": ".py",
   "mimetype": "text/x-python",
   "name": "python",
   "nbconvert_exporter": "python",
   "pygments_lexer": "ipython3",
   "version": "3.8.10"
  },
  "orig_nbformat": 4,
  "vscode": {
   "interpreter": {
    "hash": "916dbcbb3f70747c44a77c7bcd40155683ae19c65e1c03b4aa3499c5328201f1"
   }
  }
 },
 "nbformat": 4,
 "nbformat_minor": 2
}
