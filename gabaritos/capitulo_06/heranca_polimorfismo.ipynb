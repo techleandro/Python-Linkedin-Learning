{
 "cells": [
  {
   "cell_type": "code",
   "execution_count": 1,
   "metadata": {},
   "outputs": [],
   "source": [
    "class Gata:\n",
    "\n",
    "    def __init__(self, **kwargs):\n",
    "        self._patas = kwargs['patas']       \n",
    "        self._nome = kwargs['nome'] if 'nome' in kwargs else 'Nísia'\n",
    "        self._cor = kwargs['cor'] \n",
    "        self._comprimento_pelagem = kwargs['comprimento_pelagem']\n",
    "    \n",
    "    def getNome(self):\n",
    "        return self._nome\n",
    "    \n",
    "    def getIdade(self):\n",
    "        return self._idade\n",
    " \n",
    "    def getCor(self):\n",
    "        return self._cor\n",
    "\n",
    "    def setCor(self, nova_cor='cinza'):\n",
    "        if nova_cor:\n",
    "            self._cor = nova_cor\n",
    "        return self._cor\n",
    "    \n",
    "    def som(self):\n",
    "        return f'{self._nome} é uma gata que mia.'"
   ]
  },
  {
   "attachments": {},
   "cell_type": "markdown",
   "metadata": {},
   "source": [
    "- Crie uma subclasse usando a classe acima\n"
   ]
  },
  {
   "attachments": {},
   "cell_type": "markdown",
   "metadata": {},
   "source": [
    "- Extenda o método __init__ e adicione um valor padrão para a variável _idade\n"
   ]
  },
  {
   "attachments": {},
   "cell_type": "markdown",
   "metadata": {},
   "source": [
    "- Modifique o comportamento do método som()   \n"
   ]
  },
  {
   "attachments": {},
   "cell_type": "markdown",
   "metadata": {},
   "source": [
    "- Instancie um objeto usando a nova classe e imprima na tela nome, idade e som"
   ]
  }
 ],
 "metadata": {
  "kernelspec": {
   "display_name": "Python 3",
   "language": "python",
   "name": "python3"
  },
  "language_info": {
   "codemirror_mode": {
    "name": "ipython",
    "version": 3
   },
   "file_extension": ".py",
   "mimetype": "text/x-python",
   "name": "python",
   "nbconvert_exporter": "python",
   "pygments_lexer": "ipython3",
   "version": "3.8.10"
  },
  "orig_nbformat": 4,
  "vscode": {
   "interpreter": {
    "hash": "916dbcbb3f70747c44a77c7bcd40155683ae19c65e1c03b4aa3499c5328201f1"
   }
  }
 },
 "nbformat": 4,
 "nbformat_minor": 2
}
