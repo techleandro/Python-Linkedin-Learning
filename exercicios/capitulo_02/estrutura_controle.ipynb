{
 "cells": [
  {
   "cell_type": "markdown",
   "metadata": {},
   "source": [
    "SELEÇÃO (if)\n",
    "\n",
    "if condição:\n",
    "    Faça isso\n",
    "else:\n",
    "    Faça essa outra coisa"
   ]
  },
  {
   "cell_type": "code",
   "execution_count": 1,
   "metadata": {},
   "outputs": [
    {
     "name": "stdout",
     "output_type": "stream",
     "text": [
      "Tem internet\n"
     ]
    }
   ],
   "source": [
    "a = 'internet'\n",
    "lista = ['internet', 'rede', 'wifi', 'cabeada']\n",
    "\n",
    "if a in lista:\n",
    "    print('Tem internet')\n",
    "else:\n",
    "    print('Não tem internet')"
   ]
  },
  {
   "cell_type": "markdown",
   "metadata": {},
   "source": [
    "ITERAÇÃO (loops) - for\n",
    "\n",
    "for palavra in lista:\n",
    "    print(palavra)\n",
    "\n",
    "a variavel palavra só existe no escopo do for, quando o loop acabar, deixa de existir"
   ]
  },
  {
   "cell_type": "code",
   "execution_count": 2,
   "metadata": {},
   "outputs": [
    {
     "name": "stdout",
     "output_type": "stream",
     "text": [
      "internet\n",
      "rede\n",
      "wifi\n",
      "cabeada\n"
     ]
    }
   ],
   "source": [
    "for palavra in lista:\n",
    "    print(palavra)"
   ]
  },
  {
   "cell_type": "markdown",
   "metadata": {},
   "source": [
    "Iteração (loop) - while\n",
    "\n",
    "repete enquanto a condição for verdadeira"
   ]
  },
  {
   "cell_type": "code",
   "execution_count": 3,
   "metadata": {},
   "outputs": [
    {
     "name": "stdout",
     "output_type": "stream",
     "text": [
      "2  o número é menor do que 10\n",
      "3  o número é menor do que 10\n",
      "4  o número é menor do que 10\n",
      "5  o número é menor do que 10\n",
      "6  o número é menor do que 10\n",
      "7  o número é menor do que 10\n",
      "8  o número é menor do que 10\n",
      "9  o número é menor do que 10\n"
     ]
    }
   ],
   "source": [
    "b = 2\n",
    "while b < 10:\n",
    "    print(b, ' o número é menor do que 10')\n",
    "    b+=1"
   ]
  }
 ],
 "metadata": {
  "kernelspec": {
   "display_name": "Python 3",
   "language": "python",
   "name": "python3"
  },
  "language_info": {
   "codemirror_mode": {
    "name": "ipython",
    "version": 3
   },
   "file_extension": ".py",
   "mimetype": "text/x-python",
   "name": "python",
   "nbconvert_exporter": "python",
   "pygments_lexer": "ipython3",
   "version": "3.11.5"
  },
  "orig_nbformat": 4
 },
 "nbformat": 4,
 "nbformat_minor": 2
}
