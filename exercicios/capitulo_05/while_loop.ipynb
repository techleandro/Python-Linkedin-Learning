{
 "cells": [
  {
   "attachments": {},
   "cell_type": "markdown",
   "metadata": {},
   "source": [
    "- Crie um while loop que imprima números de 0 a 5\n"
   ]
  },
  {
   "cell_type": "code",
   "execution_count": 6,
   "metadata": {},
   "outputs": [],
   "source": [
    "estagio_atual = 0\n",
    "estagio_final = 5"
   ]
  },
  {
   "cell_type": "code",
   "execution_count": 2,
   "metadata": {},
   "outputs": [
    {
     "name": "stdout",
     "output_type": "stream",
     "text": [
      "Você passou do estágio 0\n",
      "Você passou do estágio 1\n",
      "Você passou do estágio 2\n",
      "Você passou do estágio 3\n",
      "Você passou do estágio 4\n",
      "Você passou do estágio 5\n"
     ]
    }
   ],
   "source": [
    "while estagio_atual <= estagio_final:\n",
    "    print('Você passou do estágio', estagio_atual)\n",
    "    estagio_atual +=1"
   ]
  },
  {
   "attachments": {},
   "cell_type": "markdown",
   "metadata": {},
   "source": [
    "- Crie um while loop com else"
   ]
  },
  {
   "cell_type": "code",
   "execution_count": 5,
   "metadata": {},
   "outputs": [
    {
     "name": "stdout",
     "output_type": "stream",
     "text": [
      "Você passou do estágio 0\n",
      "Você passou do estágio 1\n",
      "Você passou do estágio 2\n",
      "Você passou do estágio 3\n",
      "Você passou do estágio 4\n",
      "Você passou do estágio 5\n",
      "Fim de jogo\n"
     ]
    }
   ],
   "source": [
    "while estagio_atual <= estagio_final:\n",
    "    print('Você passou do estágio', estagio_atual)\n",
    "    estagio_atual +=1\n",
    "else:\n",
    "    print('Fim de jogo')"
   ]
  },
  {
   "cell_type": "code",
   "execution_count": 7,
   "metadata": {},
   "outputs": [
    {
     "name": "stdout",
     "output_type": "stream",
     "text": [
      "Você está no estágio mais fácil.\n",
      "Você passou do estágio 2\n",
      "Você passou do estágio 3\n"
     ]
    }
   ],
   "source": [
    "while estagio_atual <= estagio_final:\n",
    "    estagio_atual += 1\n",
    "    if estagio_atual == 1:\n",
    "        continue #passa pra próxima checagem\n",
    "    elif estagio_atual == 2:\n",
    "        print ('Você está no estágio mais fácil.')\n",
    "    elif estagio_atual == 3:\n",
    "        pass #executa o final do loop ignorando as checagens abaixo\n",
    "    elif estagio_atual == 4:\n",
    "        break #sai do loop por completo ignorando quaisquer operações, checagens, prints e linhas dentro do loop abaixo dessa\n",
    "    print('Você passou do estágio', estagio_atual)\n",
    "\n",
    "else:\n",
    "    print('Fim do jogo')"
   ]
  }
 ],
 "metadata": {
  "kernelspec": {
   "display_name": "Python 3",
   "language": "python",
   "name": "python3"
  },
  "language_info": {
   "codemirror_mode": {
    "name": "ipython",
    "version": 3
   },
   "file_extension": ".py",
   "mimetype": "text/x-python",
   "name": "python",
   "nbconvert_exporter": "python",
   "pygments_lexer": "ipython3",
   "version": "3.11.5"
  },
  "orig_nbformat": 4,
  "vscode": {
   "interpreter": {
    "hash": "916dbcbb3f70747c44a77c7bcd40155683ae19c65e1c03b4aa3499c5328201f1"
   }
  }
 },
 "nbformat": 4,
 "nbformat_minor": 2
}
