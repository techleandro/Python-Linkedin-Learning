{
 "cells": [
  {
   "attachments": {},
   "cell_type": "markdown",
   "metadata": {},
   "source": [
    "- Crie uma classe\n"
   ]
  },
  {
   "attachments": {},
   "cell_type": "markdown",
   "metadata": {},
   "source": [
    "- Estabeleça variáveis privadas no construtor \n"
   ]
  },
  {
   "cell_type": "code",
   "execution_count": 2,
   "metadata": {},
   "outputs": [],
   "source": [
    "class Gata:\n",
    "    def __init__(self, **kwargs):\n",
    "        self._patas = kwargs['patas']\n",
    "        self._nome = kwargs['nome'] if 'nome' in kwargs else 'Princesa'\n",
    "        self._cor = kwargs['cor']\n",
    "        self._comprimento_pelagem = kwargs['comprimento_pelagem']"
   ]
  },
  {
   "attachments": {},
   "cell_type": "markdown",
   "metadata": {},
   "source": [
    "- Crie um método get, que retorne uma das variáveis privadas\n"
   ]
  },
  {
   "cell_type": "code",
   "execution_count": 14,
   "metadata": {},
   "outputs": [],
   "source": [
    "def getCor(self):\n",
    "    return self._cor"
   ]
  },
  {
   "attachments": {},
   "cell_type": "markdown",
   "metadata": {},
   "source": [
    "- Crie um método set, que modifique uma das variáveis privadas\n"
   ]
  },
  {
   "cell_type": "code",
   "execution_count": 18,
   "metadata": {},
   "outputs": [],
   "source": [
    "def setCor(self, _cor='cinza'):\n",
    "    if _cor:\n",
    "        self._cor = _cor\n",
    "    return self.cor"
   ]
  },
  {
   "attachments": {},
   "cell_type": "markdown",
   "metadata": {},
   "source": [
    "- Instancie a classe e imprima na tela a variável antes e depois da modificação\n"
   ]
  },
  {
   "cell_type": "code",
   "execution_count": 10,
   "metadata": {},
   "outputs": [],
   "source": [
    "gatinha = Gata(patas = 4, nome = 'luli', cor = 'preta', comprimento_pelagem = 'fina')"
   ]
  },
  {
   "cell_type": "code",
   "execution_count": 19,
   "metadata": {},
   "outputs": [
    {
     "ename": "AttributeError",
     "evalue": "'Gata' object has no attribute 'cor'",
     "output_type": "error",
     "traceback": [
      "\u001b[1;31m---------------------------------------------------------------------------\u001b[0m",
      "\u001b[1;31mAttributeError\u001b[0m                            Traceback (most recent call last)",
      "Cell \u001b[1;32mIn[19], line 2\u001b[0m\n\u001b[0;32m      1\u001b[0m getCor(gatinha)\n\u001b[1;32m----> 2\u001b[0m setCor(gatinha, _cor\u001b[39m=\u001b[39;49m\u001b[39m'\u001b[39;49m\u001b[39mazul\u001b[39;49m\u001b[39m'\u001b[39;49m)\n\u001b[0;32m      3\u001b[0m getCor(gatinha)\n",
      "Cell \u001b[1;32mIn[18], line 4\u001b[0m, in \u001b[0;36msetCor\u001b[1;34m(self, _cor)\u001b[0m\n\u001b[0;32m      2\u001b[0m \u001b[39mif\u001b[39;00m _cor:\n\u001b[0;32m      3\u001b[0m     \u001b[39mself\u001b[39m\u001b[39m.\u001b[39m_cor \u001b[39m=\u001b[39m _cor\n\u001b[1;32m----> 4\u001b[0m \u001b[39mreturn\u001b[39;00m \u001b[39mself\u001b[39;49m\u001b[39m.\u001b[39;49mcor\n",
      "\u001b[1;31mAttributeError\u001b[0m: 'Gata' object has no attribute 'cor'"
     ]
    }
   ],
   "source": [
    "getCor(gatinha)\n",
    "setCor(gatinha, _cor='azul')\n",
    "getCor(gatinha)"
   ]
  }
 ],
 "metadata": {
  "kernelspec": {
   "display_name": "Python 3",
   "language": "python",
   "name": "python3"
  },
  "language_info": {
   "codemirror_mode": {
    "name": "ipython",
    "version": 3
   },
   "file_extension": ".py",
   "mimetype": "text/x-python",
   "name": "python",
   "nbconvert_exporter": "python",
   "pygments_lexer": "ipython3",
   "version": "3.11.5"
  },
  "orig_nbformat": 4,
  "vscode": {
   "interpreter": {
    "hash": "916dbcbb3f70747c44a77c7bcd40155683ae19c65e1c03b4aa3499c5328201f1"
   }
  }
 },
 "nbformat": 4,
 "nbformat_minor": 2
}
