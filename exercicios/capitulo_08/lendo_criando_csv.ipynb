{
 "cells": [
  {
   "attachments": {},
   "cell_type": "markdown",
   "metadata": {},
   "source": [
    "- Importe a biblioteca csv"
   ]
  },
  {
   "attachments": {},
   "cell_type": "markdown",
   "metadata": {},
   "source": [
    "- Abra o arquivo \"dados/populacao_mundial.csv\" e imprima-o na tela\n"
   ]
  },
  {
   "attachments": {},
   "cell_type": "markdown",
   "metadata": {},
   "source": [
    "- Repita o exercício anterior informando o delimitador '\\t'\n"
   ]
  },
  {
   "attachments": {},
   "cell_type": "markdown",
   "metadata": {},
   "source": [
    "- Crie um novo arquivo csv usando as listas abaixo:\n",
    "\n",
    "cabecalho = ['pais', 'ano', '%_crescimento_populacional']\n",
    "\n",
    "populacao_pais = ['Chile', 'Chile', 'Chile', 'Chile', 'Chile']\n",
    "populacao_ano = ['1955', '1960', '1965', '1970', '1975']\n",
    "populacao_crescimento_populacional = ['1.3', '1.7', '2.05', '2.33', '2.58']"
   ]
  }
 ],
 "metadata": {
  "kernelspec": {
   "display_name": "Python 3",
   "language": "python",
   "name": "python3"
  },
  "language_info": {
   "name": "python",
   "version": "3.8.10 (default, Nov 14 2022, 12:59:47) \n[GCC 9.4.0]"
  },
  "orig_nbformat": 4,
  "vscode": {
   "interpreter": {
    "hash": "916dbcbb3f70747c44a77c7bcd40155683ae19c65e1c03b4aa3499c5328201f1"
   }
  }
 },
 "nbformat": 4,
 "nbformat_minor": 2
}
